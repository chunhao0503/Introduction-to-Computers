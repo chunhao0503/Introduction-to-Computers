{
  "nbformat": 4,
  "nbformat_minor": 0,
  "metadata": {
    "colab": {
      "provenance": [],
      "authorship_tag": "ABX9TyPRALyuSQ7o8DYp5Nzu57Gd",
      "include_colab_link": true
    },
    "kernelspec": {
      "name": "python3",
      "display_name": "Python 3"
    },
    "language_info": {
      "name": "python"
    }
  },
  "cells": [
    {
      "cell_type": "markdown",
      "metadata": {
        "id": "view-in-github",
        "colab_type": "text"
      },
      "source": [
        "<a href=\"https://colab.research.google.com/github/chunhao0503/Introduction-to-Computers/blob/main/0515.ipynb\" target=\"_parent\"><img src=\"https://colab.research.google.com/assets/colab-badge.svg\" alt=\"Open In Colab\"/></a>"
      ]
    },
    {
      "cell_type": "code",
      "source": [
        "\n",
        "score = int(input(\"請輸入成績: \"))\n",
        "if score >= 90:\n",
        "    print('Grade is: A')\n",
        "elif score >= 80:\n",
        "    print('Grade is: B')\n",
        "elif score >= 70:\n",
        "    print('Grade is: C')\n",
        "elif score >= 60:\n",
        "    print('Grade is: D')\n",
        "elif score <= 59: \n",
        "    print('Grade is: E')"
      ],
      "metadata": {
        "colab": {
          "base_uri": "https://localhost:8080/"
        },
        "id": "KYXo8o-VTEkR",
        "outputId": "3d77b81e-76f6-4195-da80-c346143f287f"
      },
      "execution_count": 6,
      "outputs": [
        {
          "output_type": "stream",
          "name": "stdout",
          "text": [
            "請輸入成績: 59\n",
            "Grade is: E\n"
          ]
        }
      ]
    },
    {
      "cell_type": "code",
      "source": [
        "month = int(input(\"請輸入月份: \"))\n",
        "if (1 <= month <= 3):\n",
        "    print(str(month) +\" 月是春天\")\n",
        "elif (4 <= month <= 6):    \n",
        "    print(str(month) +\" 月是夏天\")\n",
        "elif (7 <= month <= 9):    \n",
        "    print(str(month) +\" 月是秋天\")\n",
        "elif (10 <= month <= 12):\n",
        "    print(str(month) +\" 月是冬天\")\n",
        "else:    print(\"這個月份不在範圍內哦！\")"
      ],
      "metadata": {
        "colab": {
          "base_uri": "https://localhost:8080/"
        },
        "id": "1Fwyjp8GZNal",
        "outputId": "51020e32-82c6-433d-b11b-2888c055ae43"
      },
      "execution_count": 18,
      "outputs": [
        {
          "output_type": "stream",
          "name": "stdout",
          "text": [
            "請輸入月份: 6\n",
            "6 月是夏天\n"
          ]
        }
      ]
    },
    {
      "cell_type": "code",
      "source": [
        "income = int(input(\"請輸入今年收入淨額：\"))\n",
        "if income >= 300000:\n",
        "    if income >= 2000000:\n",
        "        incometax = income * 0.3\n",
        "    elif income >= 1000000:\n",
        "        incometax = income * 0.21\n",
        "    elif income >= 600000:\n",
        "        incometax = income * 0.13\n",
        "    else:\n",
        "        incometax = income * 0.06"
      ],
      "metadata": {
        "colab": {
          "base_uri": "https://localhost:8080/"
        },
        "id": "1a-uVptzbldC",
        "outputId": "08caee5e-9543-45f4-e84f-c4d83ecfd88f"
      },
      "execution_count": 19,
      "outputs": [
        {
          "name": "stdout",
          "output_type": "stream",
          "text": [
            "請輸入今年收入淨額：2000000\n"
          ]
        }
      ]
    },
    {
      "cell_type": "code",
      "source": [
        "temperature = int(input(\"請輸入體溫\"))\n",
        "if temperature >= 37.5:\n",
        "    print(\"體溫過高!\")\n",
        "elif (37 <= temperature <= 37.4):\n",
        "    print(\"體溫略高！\")\n",
        "elif(34 <= temperature <= 36.9):\n",
        "    print(\"體溫正常！\")\n",
        "elif temperature <34:\n",
        "    print(\"請重新輸入！\")"
      ],
      "metadata": {
        "colab": {
          "base_uri": "https://localhost:8080/"
        },
        "id": "hRUkp6YbfExR",
        "outputId": "dd4c4967-1ae1-4b7b-8085-c7437bc88d5f"
      },
      "execution_count": 26,
      "outputs": [
        {
          "output_type": "stream",
          "name": "stdout",
          "text": [
            "請輸入體溫37\n",
            "體溫略高！\n"
          ]
        }
      ]
    }
  ]
}